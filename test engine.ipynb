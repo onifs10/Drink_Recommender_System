{
 "cells": [
  {
   "cell_type": "code",
   "execution_count": 1,
   "id": "c2aeb82a",
   "metadata": {},
   "outputs": [
    {
     "name": "stderr",
     "output_type": "stream",
     "text": [
      "writing [compiled_krb]/drink_recommender_rules_bc.py\n",
      "/Users/tifedev/opt/anaconda3/lib/python3.9/site-packages/pyke/krb_compiler/kqb_parser.py:35: FutureWarning: Possible nested set at position 122\n",
      "  tokenizer = re.compile(r''' [ \\t\\f\\r\\v]* (?: \\#.* )? (?:\n",
      "writing [compiled_krb]/drink_recommender_questions.qbc\n",
      "writing [compiled_krb]/compiled_pyke_files.py\n"
     ]
    }
   ],
   "source": [
    "import drink_recommender_driver"
   ]
  },
  {
   "cell_type": "code",
   "execution_count": 6,
   "id": "ed92a0ba",
   "metadata": {},
   "outputs": [
    {
     "name": "stdout",
     "output_type": "stream",
     "text": [
      "doing proof\n",
      "Here are some categories of drinks you might like:\n",
      "______________________________________________________________________________\n",
      "______________________________________________________________________________\n",
      "______________________________________________________________________________\n",
      "you are an adult\n",
      "______________________________________________________________________________\n",
      "I see you don't care for an alcoholic drink\n",
      "______________________________________________________________________________\n",
      "______________________________________________________________________________\n",
      "I guess, you might need to replenish your Energy\n",
      "You can take Caffeinated beverage\n",
      "Here are some of Caffeinated beverage you should try:\n",
      "\n",
      "0. Black Coffee\n",
      "\n",
      "1. Expresso\n",
      "\n",
      "2. Cappuccino\n",
      "\n",
      "3. Nescafe\n",
      "\n",
      "done\n"
     ]
    }
   ],
   "source": [
    "drink_recommender_driver.drink_recommendation_test()"
   ]
  },
  {
   "cell_type": "code",
   "execution_count": null,
   "id": "903b7177",
   "metadata": {},
   "outputs": [],
   "source": []
  }
 ],
 "metadata": {
  "kernelspec": {
   "display_name": "Python 3 (ipykernel)",
   "language": "python",
   "name": "python3"
  },
  "language_info": {
   "codemirror_mode": {
    "name": "ipython",
    "version": 3
   },
   "file_extension": ".py",
   "mimetype": "text/x-python",
   "name": "python",
   "nbconvert_exporter": "python",
   "pygments_lexer": "ipython3",
   "version": "3.9.13"
  }
 },
 "nbformat": 4,
 "nbformat_minor": 5
}
